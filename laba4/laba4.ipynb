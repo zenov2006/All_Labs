{
 "cells": [
  {
   "cell_type": "markdown",
   "id": "8def9f70-caf1-484a-9d9c-9a9d48474aa4",
   "metadata": {},
   "source": [
    "****1ex****"
   ]
  },
  {
   "cell_type": "code",
   "execution_count": 50,
   "id": "8920bafd-4fed-49b4-9e8a-bc460660597a",
   "metadata": {},
   "outputs": [
    {
     "name": "stdin",
     "output_type": "stream",
     "text": [
      "number>> 4\n"
     ]
    },
    {
     "name": "stdout",
     "output_type": "stream",
     "text": [
      "2.0\n",
      "2006 11 21\n"
     ]
    }
   ],
   "source": [
    "from math import *\n",
    "import datetime\n",
    "n = int(input(\"number>>\"))\n",
    "print(sqrt(n))\n",
    "l = \"2006.11.21\".split(\".\")\n",
    "l1 = [int(i) for i in l]\n",
    "a = datetime.date(int(l[0]),int(l[1]),int(l[2]))\n",
    "print(a.year, a.month, a.day)"
   ]
  },
  {
   "cell_type": "markdown",
   "id": "e6f98354-10c2-409e-9b2e-4cb50bd8d4a9",
   "metadata": {},
   "source": [
    "***2ex***"
   ]
  },
  {
   "cell_type": "code",
   "execution_count": 49,
   "id": "524eb4d2-8a18-4da6-bdfc-112e0aa56759",
   "metadata": {},
   "outputs": [
    {
     "name": "stdout",
     "output_type": "stream",
     "text": [
      "8 10 0.4 -3\n"
     ]
    }
   ],
   "source": [
    "import my_module\n",
    "print(my_module.prebav(3, 5), my_module.umnoj(2, 5), my_module.podeli(2, 5), my_module.otnimi(2, 5))"
   ]
  },
  {
   "cell_type": "markdown",
   "id": "970d77a3-b467-4aa5-a062-c814c5ae84ad",
   "metadata": {},
   "source": [
    "***3ex***"
   ]
  },
  {
   "cell_type": "code",
   "execution_count": 3,
   "id": "0424eed5-6c71-4c0a-9b05-ce32844e629d",
   "metadata": {},
   "outputs": [
    {
     "name": "stdout",
     "output_type": "stream",
     "text": [
      "first module to translate numbers into different systems >>\n",
      "sys to sys10=> num, sys\n"
     ]
    },
    {
     "name": "stdin",
     "output_type": "stream",
     "text": [
      " 1010\n",
      " 2\n"
     ]
    },
    {
     "name": "stdout",
     "output_type": "stream",
     "text": [
      "sys10 to sys => num, sys\n"
     ]
    },
    {
     "name": "stdin",
     "output_type": "stream",
     "text": [
      " 10\n",
      " 2\n"
     ]
    },
    {
     "name": "stdout",
     "output_type": "stream",
     "text": [
      "10 ['1', '0', '1', '0']\n",
      "second one timetable >>\n"
     ]
    },
    {
     "name": "stdin",
     "output_type": "stream",
     "text": [
      "first three letters of the day>> pon\n"
     ]
    },
    {
     "name": "stdout",
     "output_type": "stream",
     "text": [
      "['org 11:15 - 12:45']\n"
     ]
    }
   ],
   "source": [
    "import pack.raspisanie\n",
    "import pack.s\n",
    "print(\"first module to translate numbers into different systems >>\")\n",
    "print(\"sys to sys10=> num, sys\")\n",
    "b, c = int(input()), int(input())\n",
    "print(\"sys10 to sys => num, sys\")\n",
    "d, e = int(i+nput()), int(input())\n",
    "print(pack.s.sys_to_s10(b, c), pack.s.s10_to_sys(d, e))\n",
    "print(\"second one timetable >>\")\n",
    "a = input(\"first three letters of the day>>\")\n",
    "print(pack.raspisanie.ras(a))\n"
   ]
  }
 ],
 "metadata": {
  "kernelspec": {
   "display_name": "Python 3 (ipykernel)",
   "language": "python",
   "name": "python3"
  },
  "language_info": {
   "codemirror_mode": {
    "name": "ipython",
    "version": 3
   },
   "file_extension": ".py",
   "mimetype": "text/x-python",
   "name": "python",
   "nbconvert_exporter": "python",
   "pygments_lexer": "ipython3",
   "version": "3.12.4"
  }
 },
 "nbformat": 4,
 "nbformat_minor": 5
}
