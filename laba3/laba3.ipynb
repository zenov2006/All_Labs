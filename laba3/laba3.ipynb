{
 "cells": [
  {
   "cell_type": "markdown",
   "id": "a3c72299-4af2-4c16-b41b-f3a283547d79",
   "metadata": {},
   "source": [
    "***Ex1***"
   ]
  },
  {
   "cell_type": "code",
   "execution_count": 7,
   "id": "83b48bb1-864f-40c1-a3a9-912e8e52128d",
   "metadata": {},
   "outputs": [
    {
     "name": "stdout",
     "output_type": "stream",
     "text": [
      "Hello world\n",
      "i like my corsemates\n",
      "i wanna study well\n",
      "21.09.2024\n"
     ]
    }
   ],
   "source": [
    "with open(\"example.txt\", \"r\") as f:\n",
    "    print(f.read())"
   ]
  },
  {
   "cell_type": "code",
   "execution_count": 10,
   "id": "c77ac34a-16df-4900-a0f3-a142269d7475",
   "metadata": {},
   "outputs": [
    {
     "name": "stdout",
     "output_type": "stream",
     "text": [
      "Hello world\n",
      "i like my corsemates\n",
      "i wanna study well\n",
      "21.09.2024"
     ]
    }
   ],
   "source": [
    "with open(\"example.txt\", \"r\") as f:\n",
    "    for i in f:\n",
    "        print(i, end=\"\")"
   ]
  },
  {
   "cell_type": "markdown",
   "id": "c8989cf0-691c-4152-bcb1-06003ec216ff",
   "metadata": {},
   "source": [
    "***Ex2***"
   ]
  },
  {
   "cell_type": "code",
   "execution_count": 2,
   "id": "9bb75ac1-9e3f-44ce-8fb6-58eaba09b2b6",
   "metadata": {},
   "outputs": [
    {
     "name": "stdin",
     "output_type": "stream",
     "text": [
      "print smth>> gghghg\n"
     ]
    },
    {
     "name": "stdout",
     "output_type": "stream",
     "text": [
      "hi\n",
      "joii\n",
      "ko\n",
      "jijiji]kijikokopoo/nk\n",
      "l\n",
      "h\n",
      "sasha\n",
      "gghghg\n",
      "\n"
     ]
    }
   ],
   "source": [
    "with open(\"user_input.txt\", \"a+\") as f:\n",
    "    a = input(\"print smth>>\")\n",
    "    f.write(a + \"\\n\")\n",
    "    f.seek(0)\n",
    "    print(f.read())"
   ]
  },
  {
   "cell_type": "markdown",
   "id": "eb1d373e-d227-4892-869a-1da221f5f197",
   "metadata": {},
   "source": [
    "***Ex3***"
   ]
  },
  {
   "cell_type": "code",
   "execution_count": 3,
   "id": "e2853d22-ec9f-4cf0-8bc7-c3aca234e12b",
   "metadata": {},
   "outputs": [
    {
     "name": "stdout",
     "output_type": "stream",
     "text": [
      "Hello world\n",
      "i like my corsemates\n",
      "i wanna study well\n",
      "21.09.2024\n",
      "OK\n"
     ]
    }
   ],
   "source": [
    "try:\n",
    "    with open(\"example.txt\", \"r\") as f:\n",
    "        print(f.read())\n",
    "except FileNotFoundError:\n",
    "    print(\"file isn't found\")\n",
    "else:\n",
    "    print(\"OK\")\n"
   ]
  },
  {
   "cell_type": "code",
   "execution_count": null,
   "id": "c4757e5c-ca94-4c10-96bb-352a22ab8746",
   "metadata": {},
   "outputs": [],
   "source": []
  }
 ],
 "metadata": {
  "kernelspec": {
   "display_name": "Python 3 (ipykernel)",
   "language": "python",
   "name": "python3"
  },
  "language_info": {
   "codemirror_mode": {
    "name": "ipython",
    "version": 3
   },
   "file_extension": ".py",
   "mimetype": "text/x-python",
   "name": "python",
   "nbconvert_exporter": "python",
   "pygments_lexer": "ipython3",
   "version": "3.12.4"
  }
 },
 "nbformat": 4,
 "nbformat_minor": 5
}
