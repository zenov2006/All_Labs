{
 "cells": [
  {
   "cell_type": "markdown",
   "id": "36f32cd7-7d8d-40d2-b24c-c719c4932ac5",
   "metadata": {},
   "source": [
    "***1***"
   ]
  },
  {
   "cell_type": "code",
   "execution_count": 2,
   "id": "322cf71a-4e55-4990-af4e-2b14e5e00cd6",
   "metadata": {},
   "outputs": [
    {
     "name": "stdout",
     "output_type": "stream",
     "text": [
      "Nazvanie knigi: [Voyna i mir], avtor: [Tolstoy], year: [1941]\n"
     ]
    }
   ],
   "source": [
    "class Book():\n",
    "    def __init__(self, t, a, y):\n",
    "        self.title = t\n",
    "        self.author = a\n",
    "        self.year = y\n",
    "    def get_info(self):\n",
    "        return f\"Nazvanie knigi: [{self.title}], avtor: [{self.author}], year: [{self.year}]\"\n",
    "\n",
    "print(Book(\"Voyna i mir\", \"Tolstoy\", \"1941\").get_info())"
   ]
  },
  {
   "cell_type": "markdown",
   "id": "07d7b7ce-cef6-41f7-9b1a-4e411c72ca78",
   "metadata": {},
   "source": [
    "***2***"
   ]
  },
  {
   "cell_type": "code",
   "execution_count": 37,
   "id": "5ccdd92c-c5fc-4adf-b7f2-e83aa875c69f",
   "metadata": {},
   "outputs": [
    {
     "name": "stdout",
     "output_type": "stream",
     "text": [
      "6\n",
      "12\n"
     ]
    }
   ],
   "source": [
    "class Circle():\n",
    "    def __init__(self, radius):\n",
    "        self.radius = radius\n",
    "    def get_radius(self):\n",
    "        return self.radius\n",
    "    def set_radius(self, radius):\n",
    "        self.radius = radius\n",
    "\n",
    "r1 = Circle(6)          # Создаем объект    \n",
    "print(r1.get_radius())  # Выводим\n",
    "r1.set_radius(12)       # Используем методы класса\n",
    "print(r1.get_radius())  # Выводим"
   ]
  }
 ],
 "metadata": {
  "kernelspec": {
   "display_name": "Python 3 (ipykernel)",
   "language": "python",
   "name": "python3"
  },
  "language_info": {
   "codemirror_mode": {
    "name": "ipython",
    "version": 3
   },
   "file_extension": ".py",
   "mimetype": "text/x-python",
   "name": "python",
   "nbconvert_exporter": "python",
   "pygments_lexer": "ipython3",
   "version": "3.12.4"
  }
 },
 "nbformat": 4,
 "nbformat_minor": 5
}
