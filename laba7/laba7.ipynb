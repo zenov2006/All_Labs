{
 "cells": [
  {
   "cell_type": "markdown",
   "id": "235a437f-cd44-4523-bb13-af57878e4af0",
   "metadata": {},
   "source": [
    "1ex."
   ]
  },
  {
   "cell_type": "code",
   "execution_count": 97,
   "id": "e99bbb01-6f4f-4493-a8aa-3ed9cba5a672",
   "metadata": {},
   "outputs": [
    {
     "name": "stdout",
     "output_type": "stream",
     "text": [
      "Name > Sasha, id > 11111\n",
      "\n",
      "Sasha, 11111, department > IT is doing finacial project\n",
      "\n",
      "The project is done\n",
      "\n",
      "[('Daniil', 12331, 'IT', 'Programmer'), ('Sasha', 14331, 'IT', 'Programmer')]\n"
     ]
    }
   ],
   "source": [
    "class Employee():\n",
    "    def __init__(self, name, id):\n",
    "        self.name = name\n",
    "        self.id = id\n",
    "    def get_info(self):\n",
    "        return f\"Name > {self.name}, id > {self.id}\"\n",
    "\n",
    "class Manager(Employee):\n",
    "    def __init__(self, name, id, department):\n",
    "        super().__init__(name, id)\n",
    "        self.department = department\n",
    "    def manage_project(self):\n",
    "        return f\"{self.name}, {self.id}, department > {self.department} is doing finacial project\"\n",
    "class Technician():\n",
    "    def __init__(self, specialization):\n",
    "        self.specialization = specialization\n",
    "    def perform_maintance(self):\n",
    "        return \"The project is done\"\n",
    "\n",
    "class TechManager(Manager, Technician):\n",
    "    def __init__(self):\n",
    "        self.list1 = []  \n",
    "\n",
    "    def add_employee(self, name, id, department, specialization):\n",
    "        Manager.__init__(self, name, id, department)\n",
    "        Technician.__init__(self, specialization)\n",
    "        new_employee = (self.name, self.id, self.department, self.specialization)\n",
    "        self.list1.append(new_employee)\n",
    "\n",
    "    def get_team_info(self):\n",
    "        return self.list1\n",
    "\n",
    "v1 = Employee(\"Sasha\", 11111)\n",
    "print(v1.get_info())\n",
    "print()\n",
    "\n",
    "v2 = Manager(\"Sasha\", 11111, \"IT\")\n",
    "print(v2.manage_project())\n",
    "print()\n",
    "\n",
    "v3 = Technician(\"programmer\")\n",
    "print(v3.perform_maintance())\n",
    "print()\n",
    "\n",
    "\n",
    "v5 = TechManager()\n",
    "\n",
    "v5.add_employee(\"Daniil\", 12331,\"IT\", \"Programmer\")\n",
    "v5.add_employee(\"Sasha\", 14331,\"IT\", \"Programmer\")\n",
    "\n",
    "print(v5.get_team_info())"
   ]
  },
  {
   "cell_type": "code",
   "execution_count": null,
   "id": "20761e23-8564-4a0c-a4ce-b869b952c770",
   "metadata": {},
   "outputs": [],
   "source": []
  },
  {
   "cell_type": "code",
   "execution_count": null,
   "id": "3404a46f-9a9d-46ad-a6fe-21ad2859aefa",
   "metadata": {},
   "outputs": [],
   "source": []
  }
 ],
 "metadata": {
  "kernelspec": {
   "display_name": "Python 3 (ipykernel)",
   "language": "python",
   "name": "python3"
  },
  "language_info": {
   "codemirror_mode": {
    "name": "ipython",
    "version": 3
   },
   "file_extension": ".py",
   "mimetype": "text/x-python",
   "name": "python",
   "nbconvert_exporter": "python",
   "pygments_lexer": "ipython3",
   "version": "3.12.4"
  }
 },
 "nbformat": 4,
 "nbformat_minor": 5
}
