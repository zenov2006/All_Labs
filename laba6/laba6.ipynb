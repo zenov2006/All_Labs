{
 "cells": [
  {
   "cell_type": "markdown",
   "id": "e76c2437-ec78-4f81-8454-e700fea80b04",
   "metadata": {},
   "source": [
    "***First ex.***"
   ]
  },
  {
   "cell_type": "code",
   "execution_count": 13,
   "id": "f31a74a5-f017-4bc5-8452-5a3e877e9297",
   "metadata": {},
   "outputs": [
    {
     "name": "stdout",
     "output_type": "stream",
     "text": [
      "False\n",
      "True\n"
     ]
    }
   ],
   "source": [
    "class UserAccount():\n",
    "    def __init__(self, username, email, password):\n",
    "        self.username = username\n",
    "        self.email = email\n",
    "        self.password = password\n",
    "    def set_password(self, new_password):\n",
    "        self.password = new_password\n",
    "    def check_password(self, password):\n",
    "        if password == self.password:\n",
    "            return True\n",
    "        else:\n",
    "            return False\n",
    "p1 = UserAccount(\"Sasha\", \"sasha@email.ru\", \"12345678\")\n",
    "print(p1.check_password(\"1234\"))\n",
    "p1.set_password(\"987654321\")\n",
    "print(p1.check_password(\"987654321\"))\n",
    "        \n",
    "    "
   ]
  },
  {
   "cell_type": "markdown",
   "id": "eccdda36-6513-4cee-8161-8aa1131fce18",
   "metadata": {},
   "source": [
    "***Second ex.***"
   ]
  },
  {
   "cell_type": "code",
   "execution_count": 4,
   "id": "6902a71e-c922-4aaa-83d1-23b33b224245",
   "metadata": {},
   "outputs": [
    {
     "data": {
      "text/plain": [
       "'Make >> laborgini, Model >> samolet, fuel_type >> benzin'"
      ]
     },
     "execution_count": 4,
     "metadata": {},
     "output_type": "execute_result"
    }
   ],
   "source": [
    "class Vehicle():\n",
    "    def __init__(self, make, model):\n",
    "        self.make = make\n",
    "        self.model = model\n",
    "    def get_info(self):\n",
    "        return f\"Make >> {self.make} \\nModel >> {self.model} \"\n",
    "        \n",
    "class Car(Vehicle):\n",
    "    def __init__(self, make, model, fuel_type):\n",
    "        super().__init__(make, model)\n",
    "        self.fuel_type = fuel_type\n",
    "    def get_info(self):\n",
    "        return f\"Make >> {self.make}, Model >> {self.model}, fuel_type >> {self.fuel_type}\"\n",
    "\n",
    "        \n",
    "\n",
    "p1f1 = Car(\"laborgini\", \"samolet\", \"benzin\")\n",
    "p1f1.get_info()"
   ]
  },
  {
   "cell_type": "code",
   "execution_count": null,
   "id": "e1bd7395-f4c6-4fc2-bfe3-abfb96d51990",
   "metadata": {},
   "outputs": [],
   "source": []
  }
 ],
 "metadata": {
  "kernelspec": {
   "display_name": "Python 3 (ipykernel)",
   "language": "python",
   "name": "python3"
  },
  "language_info": {
   "codemirror_mode": {
    "name": "ipython",
    "version": 3
   },
   "file_extension": ".py",
   "mimetype": "text/x-python",
   "name": "python",
   "nbconvert_exporter": "python",
   "pygments_lexer": "ipython3",
   "version": "3.12.4"
  }
 },
 "nbformat": 4,
 "nbformat_minor": 5
}
